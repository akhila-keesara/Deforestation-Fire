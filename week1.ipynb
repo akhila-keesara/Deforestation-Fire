import numpy as np
import pandas as pd
import seaborn as sns
import matplotlib.pyplot as plt
from sklearn.model_selection import train_test_split
from sklearn.linear_model import LogisticRegression
from sklearn.feature_selection import SelectKBest, f_classif, mutual_info_classif
from sklearn.ensemble import RandomForestClassifier # <--- ERROR HERE (extra space)
from sklearn.ensemble import RandomForestClassifier # This line was reported, but the error is above.
from sklearn.preprocessing import StandardScaler
from sklearn.metrics import accuracy_score, classification_report, ConfusionMatrixDisplay
from sklearn.neighbors import KNeighborsClassifier
from sklearn.preprocessing import LabelEncoder,OneHotEncoder
df1=pd.read_csv('modis_2021_India.csv')
df2=pd.read_csv('modis_2022_India.csv')
df3=pd.read_csv('modis_2023_India.csv')
df1.head()
df2.head()
df3.head()
df=pd.concat([df1,df2,df3],ignore_index=True)
df.head()
df.shape # rows and cols
df.info()
df.duplicated().sum()
df.isnull().sum()
#list out column names to check
df.columns
df.describe().T
df.type.value_counts()
for col in df.columns:
    if df[col].dtype=='object':
        print(f"column: {col}")
        print(f"unique vales: {df[col].unique()}")
        print(f"Number of unique values: {df[col].nunique()}")
        print("-"*50)
#count plot for 'type'
plt.figure(figsize=(8,6))
sns.countplot(x='type',data=df)
plt.title('Distribution of Fire Types')
plt.xlabel('Fire Type')
plt.ylabel('Count')
plt.show()   
#Histogram of 'Confidence'
plt.figure(figsize=(8,6))
sns.histplot(df['confidence'],bins=20,kde=True)
plt.title('Distribution of Confidence')
plt.xlabel('Confidence')
plt.ylabel('Frequency')
plt.show()

